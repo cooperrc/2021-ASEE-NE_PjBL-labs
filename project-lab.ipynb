{
 "cells": [
  {
   "cell_type": "markdown",
   "id": "21821f07",
   "metadata": {
    "slideshow": {
     "slide_type": "slide"
    }
   },
   "source": [
    "# Project-based engineering competition in upper-level engineering laboratory\n",
    "## Ryan C. Cooper"
   ]
  },
  {
   "cell_type": "markdown",
   "id": "1fae8d88",
   "metadata": {
    "slideshow": {
     "slide_type": "slide"
    }
   },
   "source": [
    "# About me - Ryan C. Cooper\n",
    "\n",
    "__email:__ ryan.c.cooper@uconn.edu\n",
    "__GitHub__: [@cooperrc](https://github.com/cooperrc)\n",
    "\n",
    "\n",
    "\n",
    "\n",
    "- Assistant Professor-in-Residence at University of Connecticut Mechanical Engineering Department\n",
    "- Father of two boys\n",
    "- Runner, bicyclist, and skateboarder"
   ]
  },
  {
   "cell_type": "code",
   "execution_count": null,
   "id": "6dc9a16d",
   "metadata": {
    "slideshow": {
     "slide_type": "fragment"
    }
   },
   "outputs": [],
   "source": [
    "from IPython.lib.display import YouTubeVideo\n",
    "YouTubeVideo('pvdID82aMEg')"
   ]
  },
  {
   "cell_type": "markdown",
   "id": "6a343a27",
   "metadata": {
    "slideshow": {
     "slide_type": "slide"
    }
   },
   "source": [
    "# What is Project/Problem-Based Learning\n",
    "\n",
    "## Project-based Learning (PjBL)"
   ]
  },
  {
   "cell_type": "markdown",
   "id": "efd2d773",
   "metadata": {
    "slideshow": {
     "slide_type": "fragment"
    }
   },
   "source": [
    "## Problem-Based Learning (PBL)"
   ]
  },
  {
   "cell_type": "markdown",
   "id": "3a4da4f3",
   "metadata": {
    "slideshow": {
     "slide_type": "slide"
    }
   },
   "source": [
    "# Motivation - Why am I using Projects and Problems?\n",
    "- Students expect a hands-on engineering experience\n",
    "- We, _professors_, give them an analytical background\n",
    "<center><img alt = 'kant-vs-hume and analytical-vs-empirical venn diagram' src = analytic-vs-empirical.svg height=\"1000\"/></center>"
   ]
  },
  {
   "cell_type": "markdown",
   "id": "90a020f9",
   "metadata": {
    "slideshow": {
     "slide_type": "slide"
    }
   },
   "source": [
    "# Motivation - Why am I using Projects and Problems?\n",
    "## Most important ABET outcomes ranked by practicing engineers, employers, and recent graduates \n",
    "### 1. problem solving \n",
    "Students need practice solving problems\n",
    "### 2. communication\n",
    "Students need to share results e.g. improve technical writing"
   ]
  },
  {
   "cell_type": "markdown",
   "id": "261fc950",
   "metadata": {
    "slideshow": {
     "slide_type": "slide"
    }
   },
   "source": [
    "- Engineering expecations\n",
    "    - analytical <- what we give them\n",
    "    - empirical <- what students come for \n",
    "    - combine with Jupyter notebooks\n",
    "- Project- vs Problem-based Learning\n",
    "    - PjBL:\n",
    "    - PBL:\n",
    "- Criteria-based grading\n",
    "    - All reports graded Pass/Fail (7 passes = A, 6 passes = A-, ...)\n",
    "    - Students encouraged to \"Fail\" and revise with tokens\n",
    "    - Detailed rubric gave 7 TAs consistent scheme\n",
    "    - \n",
    "- Demonstrate understanding with technical writing\n",
    "    - necessary skill in engineering + other careers\n",
    "    - _needs_ practice in engineering courses (not humanities)\n",
    "- Methods:\n",
    "    - 5 PBL labs with content in Jupyter\n",
    "    - 1 PjBL lab open-ended with definite goal\n",
    "    - assess technical writing improvements\n",
    "    - survey students for most important skills\n",
    "    - survey students for capstone preparedness\n",
    "    - measure total error in student Project predictions\n",
    "- Results\n",
    "    - Tech writing improved\n",
    "    - students agreed that tech writing was one of the most important skills\n",
    "    - Students felt  more prepared for capstone project\n",
    "- Conclusion and next steps\n",
    "    - Students need opportunities for PBL and PjBL in every class\n",
    "        - it improves tech writing\n",
    "        - it connects empirical and analytical methods\n",
    "    - Jupyter is an _awesome_ way to build open educational resources\n",
    "        - connects empirical to analytical methods\n",
    "        - interactive materials encourage experimentation and exploration\n",
    "        - free and __open__: you can download/modify/redistribute _great for building student portfolios_\n",
    "    - Critera-based grading is first step to _my ungrading journey_\n",
    "        - >80% of students liked the system\n",
    "        - the failing cases were a mix of apathetic and enraged\n",
    "        -"
   ]
  }
 ],
 "metadata": {
  "jupytext": {
   "cell_metadata_filter": "-all",
   "formats": "md:myst,ipynb"
  },
  "kernelspec": {
   "display_name": "Python 3",
   "language": "python",
   "name": "python3"
  }
 },
 "nbformat": 4,
 "nbformat_minor": 5
}
